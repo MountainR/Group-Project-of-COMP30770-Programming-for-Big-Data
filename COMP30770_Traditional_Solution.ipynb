{
 "cells": [
  {
   "cell_type": "code",
   "execution_count": 1,
   "id": "ddf07a27",
   "metadata": {},
   "outputs": [
    {
     "name": "stderr",
     "output_type": "stream",
     "text": [
      "C:\\Users\\LJaig\\AppData\\Roaming\\Python\\Python39\\site-packages\\pandas\\core\\computation\\expressions.py:21: UserWarning: Pandas requires version '2.8.4' or newer of 'numexpr' (version '2.8.3' currently installed).\n",
      "  from pandas.core.computation.check import NUMEXPR_INSTALLED\n",
      "C:\\Users\\LJaig\\AppData\\Roaming\\Python\\Python39\\site-packages\\pandas\\core\\arrays\\masked.py:60: UserWarning: Pandas requires version '1.3.6' or newer of 'bottleneck' (version '1.3.5' currently installed).\n",
      "  from pandas.core import (\n"
     ]
    }
   ],
   "source": [
    "import pandas as pd"
   ]
  },
  {
   "cell_type": "code",
   "execution_count": 2,
   "id": "fcf86706",
   "metadata": {},
   "outputs": [],
   "source": [
    "dtypes_dict= {'CPSC_Case_Number':'int', 'Treatment_Date':'str', 'Age':'int', 'Sex':'int', 'Race':'int', 'Other_Race':'str', 'Hispanic':'str', 'Body_Part':'int','Diagnosis':'int','Other_Diagnosis':'str','Disposition':'int','Location':'int','Fire_Involvement':'int','Product_1':'int','Product_2':'int','Narrative':'str','Stratum':'str','PSU':'int','Weight':'float64'}\n",
    "columns = ['CPSC_Case_Number', 'Treatment_Date', 'Age','Sex','Race','Other_Race','Hispanic','Body_Part','Diagnosis','Other_Diagnosis','Disposition']"
   ]
  },
  {
   "cell_type": "code",
   "execution_count": 31,
   "id": "1c11eac5",
   "metadata": {},
   "outputs": [
    {
     "name": "stderr",
     "output_type": "stream",
     "text": [
      "C:\\Users\\LJaig\\AppData\\Local\\Temp\\ipykernel_6904\\231416706.py:1: DtypeWarning: Columns (0) have mixed types. Specify dtype option on import or set low_memory=False.\n",
      "  patients_df = pd.read_csv('NEISS.txt', sep='\\t', encoding='latin-1', index_col='CPSC_Case_Number', usecols=columns)\n"
     ]
    }
   ],
   "source": [
    "patients_df = pd.read_csv('NEISS.txt', sep='\\t', encoding='latin-1', index_col='CPSC_Case_Number', usecols=columns)"
   ]
  },
  {
   "cell_type": "code",
   "execution_count": 32,
   "id": "1f347924",
   "metadata": {
    "scrolled": false
   },
   "outputs": [
    {
     "data": {
      "text/html": [
       "<div>\n",
       "<style scoped>\n",
       "    .dataframe tbody tr th:only-of-type {\n",
       "        vertical-align: middle;\n",
       "    }\n",
       "\n",
       "    .dataframe tbody tr th {\n",
       "        vertical-align: top;\n",
       "    }\n",
       "\n",
       "    .dataframe thead th {\n",
       "        text-align: right;\n",
       "    }\n",
       "</style>\n",
       "<table border=\"1\" class=\"dataframe\">\n",
       "  <thead>\n",
       "    <tr style=\"text-align: right;\">\n",
       "      <th></th>\n",
       "      <th>Treatment_Date</th>\n",
       "      <th>Age</th>\n",
       "      <th>Sex</th>\n",
       "      <th>Race</th>\n",
       "      <th>Other_Race</th>\n",
       "      <th>Hispanic</th>\n",
       "      <th>Body_Part</th>\n",
       "      <th>Diagnosis</th>\n",
       "      <th>Other_Diagnosis</th>\n",
       "      <th>Disposition</th>\n",
       "    </tr>\n",
       "    <tr>\n",
       "      <th>CPSC_Case_Number</th>\n",
       "      <th></th>\n",
       "      <th></th>\n",
       "      <th></th>\n",
       "      <th></th>\n",
       "      <th></th>\n",
       "      <th></th>\n",
       "      <th></th>\n",
       "      <th></th>\n",
       "      <th></th>\n",
       "      <th></th>\n",
       "    </tr>\n",
       "  </thead>\n",
       "  <tbody>\n",
       "    <tr>\n",
       "      <th>160101845</th>\n",
       "      <td>01/01/2016</td>\n",
       "      <td>92</td>\n",
       "      <td>1.0</td>\n",
       "      <td>0.0</td>\n",
       "      <td>NaN</td>\n",
       "      <td>NaN</td>\n",
       "      <td>79.0</td>\n",
       "      <td>57.0</td>\n",
       "      <td>NaN</td>\n",
       "      <td>4.0</td>\n",
       "    </tr>\n",
       "    <tr>\n",
       "      <th>160101847</th>\n",
       "      <td>01/01/2016</td>\n",
       "      <td>90</td>\n",
       "      <td>1.0</td>\n",
       "      <td>0.0</td>\n",
       "      <td>NaN</td>\n",
       "      <td>NaN</td>\n",
       "      <td>79.0</td>\n",
       "      <td>57.0</td>\n",
       "      <td>NaN</td>\n",
       "      <td>4.0</td>\n",
       "    </tr>\n",
       "    <tr>\n",
       "      <th>160101848</th>\n",
       "      <td>01/01/2016</td>\n",
       "      <td>71</td>\n",
       "      <td>2.0</td>\n",
       "      <td>0.0</td>\n",
       "      <td>NaN</td>\n",
       "      <td>NaN</td>\n",
       "      <td>79.0</td>\n",
       "      <td>57.0</td>\n",
       "      <td>NaN</td>\n",
       "      <td>4.0</td>\n",
       "    </tr>\n",
       "    <tr>\n",
       "      <th>160101852</th>\n",
       "      <td>01/01/2016</td>\n",
       "      <td>71</td>\n",
       "      <td>2.0</td>\n",
       "      <td>0.0</td>\n",
       "      <td>NaN</td>\n",
       "      <td>NaN</td>\n",
       "      <td>31.0</td>\n",
       "      <td>64.0</td>\n",
       "      <td>NaN</td>\n",
       "      <td>1.0</td>\n",
       "    </tr>\n",
       "    <tr>\n",
       "      <th>160101857</th>\n",
       "      <td>01/01/2016</td>\n",
       "      <td>57</td>\n",
       "      <td>1.0</td>\n",
       "      <td>0.0</td>\n",
       "      <td>NaN</td>\n",
       "      <td>NaN</td>\n",
       "      <td>83.0</td>\n",
       "      <td>59.0</td>\n",
       "      <td>NaN</td>\n",
       "      <td>1.0</td>\n",
       "    </tr>\n",
       "  </tbody>\n",
       "</table>\n",
       "</div>"
      ],
      "text/plain": [
       "                 Treatment_Date  Age  Sex  Race Other_Race  Hispanic  \\\n",
       "CPSC_Case_Number                                                       \n",
       "160101845            01/01/2016   92  1.0   0.0        NaN       NaN   \n",
       "160101847            01/01/2016   90  1.0   0.0        NaN       NaN   \n",
       "160101848            01/01/2016   71  2.0   0.0        NaN       NaN   \n",
       "160101852            01/01/2016   71  2.0   0.0        NaN       NaN   \n",
       "160101857            01/01/2016   57  1.0   0.0        NaN       NaN   \n",
       "\n",
       "                  Body_Part  Diagnosis Other_Diagnosis  Disposition  \n",
       "CPSC_Case_Number                                                     \n",
       "160101845              79.0       57.0             NaN          4.0  \n",
       "160101847              79.0       57.0             NaN          4.0  \n",
       "160101848              79.0       57.0             NaN          4.0  \n",
       "160101852              31.0       64.0             NaN          1.0  \n",
       "160101857              83.0       59.0             NaN          1.0  "
      ]
     },
     "execution_count": 32,
     "metadata": {},
     "output_type": "execute_result"
    }
   ],
   "source": [
    "patients_df.head()"
   ]
  },
  {
   "cell_type": "code",
   "execution_count": 80,
   "id": "eabec750",
   "metadata": {},
   "outputs": [],
   "source": [
    "bins = [0,1,10,20,50,80,120,223]\n",
    "labels = ['not recorded','child','adolescent', 'adult', 'elderly', 'very old', 'infant']\n",
    "patients_df['age_bin'] = pd.cut(patients_df['Age'], bins, labels=labels, include_lowest=True)"
   ]
  },
  {
   "cell_type": "code",
   "execution_count": 81,
   "id": "af232fc6",
   "metadata": {},
   "outputs": [],
   "source": [
    "passed_away = patients_df.loc[patients_df['Disposition'] == 8]"
   ]
  },
  {
   "cell_type": "code",
   "execution_count": 82,
   "id": "09dde43b",
   "metadata": {},
   "outputs": [
    {
     "data": {
      "text/html": [
       "<div>\n",
       "<style scoped>\n",
       "    .dataframe tbody tr th:only-of-type {\n",
       "        vertical-align: middle;\n",
       "    }\n",
       "\n",
       "    .dataframe tbody tr th {\n",
       "        vertical-align: top;\n",
       "    }\n",
       "\n",
       "    .dataframe thead th {\n",
       "        text-align: right;\n",
       "    }\n",
       "</style>\n",
       "<table border=\"1\" class=\"dataframe\">\n",
       "  <thead>\n",
       "    <tr style=\"text-align: right;\">\n",
       "      <th></th>\n",
       "      <th>Treatment_Date</th>\n",
       "      <th>Age</th>\n",
       "      <th>Sex</th>\n",
       "      <th>Race</th>\n",
       "      <th>Other_Race</th>\n",
       "      <th>Hispanic</th>\n",
       "      <th>Body_Part</th>\n",
       "      <th>Diagnosis</th>\n",
       "      <th>Other_Diagnosis</th>\n",
       "      <th>Disposition</th>\n",
       "      <th>age_bin</th>\n",
       "    </tr>\n",
       "    <tr>\n",
       "      <th>CPSC_Case_Number</th>\n",
       "      <th></th>\n",
       "      <th></th>\n",
       "      <th></th>\n",
       "      <th></th>\n",
       "      <th></th>\n",
       "      <th></th>\n",
       "      <th></th>\n",
       "      <th></th>\n",
       "      <th></th>\n",
       "      <th></th>\n",
       "      <th></th>\n",
       "    </tr>\n",
       "  </thead>\n",
       "  <tbody>\n",
       "    <tr>\n",
       "      <th>160122220</th>\n",
       "      <td>01/08/2016</td>\n",
       "      <td>84</td>\n",
       "      <td>1.0</td>\n",
       "      <td>0.0</td>\n",
       "      <td>NaN</td>\n",
       "      <td>NaN</td>\n",
       "      <td>85.0</td>\n",
       "      <td>71.0</td>\n",
       "      <td>CARDIAC ARREST</td>\n",
       "      <td>8.0</td>\n",
       "      <td>very old</td>\n",
       "    </tr>\n",
       "    <tr>\n",
       "      <th>160127991</th>\n",
       "      <td>01/09/2016</td>\n",
       "      <td>41</td>\n",
       "      <td>2.0</td>\n",
       "      <td>1.0</td>\n",
       "      <td>NaN</td>\n",
       "      <td>NaN</td>\n",
       "      <td>85.0</td>\n",
       "      <td>71.0</td>\n",
       "      <td>CARDIOPULMONARY ARRE</td>\n",
       "      <td>8.0</td>\n",
       "      <td>adult</td>\n",
       "    </tr>\n",
       "    <tr>\n",
       "      <th>160135106</th>\n",
       "      <td>01/17/2016</td>\n",
       "      <td>23</td>\n",
       "      <td>2.0</td>\n",
       "      <td>3.0</td>\n",
       "      <td>HISPANIC</td>\n",
       "      <td>NaN</td>\n",
       "      <td>75.0</td>\n",
       "      <td>52.0</td>\n",
       "      <td>NaN</td>\n",
       "      <td>8.0</td>\n",
       "      <td>adult</td>\n",
       "    </tr>\n",
       "    <tr>\n",
       "      <th>160135933</th>\n",
       "      <td>01/10/2016</td>\n",
       "      <td>58</td>\n",
       "      <td>2.0</td>\n",
       "      <td>1.0</td>\n",
       "      <td>NaN</td>\n",
       "      <td>NaN</td>\n",
       "      <td>85.0</td>\n",
       "      <td>71.0</td>\n",
       "      <td>SUDDEN DEATH</td>\n",
       "      <td>8.0</td>\n",
       "      <td>elderly</td>\n",
       "    </tr>\n",
       "    <tr>\n",
       "      <th>160146198</th>\n",
       "      <td>01/23/2016</td>\n",
       "      <td>3</td>\n",
       "      <td>1.0</td>\n",
       "      <td>0.0</td>\n",
       "      <td>NaN</td>\n",
       "      <td>NaN</td>\n",
       "      <td>85.0</td>\n",
       "      <td>69.0</td>\n",
       "      <td>NaN</td>\n",
       "      <td>8.0</td>\n",
       "      <td>child</td>\n",
       "    </tr>\n",
       "  </tbody>\n",
       "</table>\n",
       "</div>"
      ],
      "text/plain": [
       "                 Treatment_Date  Age  Sex  Race Other_Race  Hispanic  \\\n",
       "CPSC_Case_Number                                                       \n",
       "160122220            01/08/2016   84  1.0   0.0        NaN       NaN   \n",
       "160127991            01/09/2016   41  2.0   1.0        NaN       NaN   \n",
       "160135106            01/17/2016   23  2.0   3.0   HISPANIC       NaN   \n",
       "160135933            01/10/2016   58  2.0   1.0        NaN       NaN   \n",
       "160146198            01/23/2016    3  1.0   0.0        NaN       NaN   \n",
       "\n",
       "                  Body_Part  Diagnosis       Other_Diagnosis  Disposition  \\\n",
       "CPSC_Case_Number                                                            \n",
       "160122220              85.0       71.0        CARDIAC ARREST          8.0   \n",
       "160127991              85.0       71.0  CARDIOPULMONARY ARRE          8.0   \n",
       "160135106              75.0       52.0                   NaN          8.0   \n",
       "160135933              85.0       71.0          SUDDEN DEATH          8.0   \n",
       "160146198              85.0       69.0                   NaN          8.0   \n",
       "\n",
       "                   age_bin  \n",
       "CPSC_Case_Number            \n",
       "160122220         very old  \n",
       "160127991            adult  \n",
       "160135106            adult  \n",
       "160135933          elderly  \n",
       "160146198            child  "
      ]
     },
     "execution_count": 82,
     "metadata": {},
     "output_type": "execute_result"
    }
   ],
   "source": [
    "passed_away.head()"
   ]
  },
  {
   "cell_type": "code",
   "execution_count": 83,
   "id": "b8e21e8c",
   "metadata": {},
   "outputs": [
    {
     "name": "stderr",
     "output_type": "stream",
     "text": [
      "C:\\Users\\LJaig\\AppData\\Roaming\\Python\\Python39\\site-packages\\openpyxl\\reader\\workbook.py:118: UserWarning: Print area cannot be set to Defined name: Table2[#All].\n",
      "  warn(f\"Print area cannot be set to Defined name: {defn.value}.\")\n",
      "C:\\Users\\LJaig\\AppData\\Roaming\\Python\\Python39\\site-packages\\openpyxl\\reader\\workbook.py:118: UserWarning: Print area cannot be set to Defined name: Table22[#All].\n",
      "  warn(f\"Print area cannot be set to Defined name: {defn.value}.\")\n"
     ]
    }
   ],
   "source": [
    "diagnoses = pd.read_excel(\"Data-Dictionary.xlsx\")"
   ]
  },
  {
   "cell_type": "code",
   "execution_count": 37,
   "id": "f9526f07",
   "metadata": {},
   "outputs": [
    {
     "name": "stdout",
     "output_type": "stream",
     "text": [
      "Defaulting to user installation because normal site-packages is not writeable\n",
      "Requirement already satisfied: openpyxl in c:\\users\\ljaig\\appdata\\roaming\\python\\python39\\site-packages (3.1.5)\n",
      "Requirement already satisfied: et-xmlfile in c:\\programdata\\anaconda3\\lib\\site-packages (from openpyxl) (1.1.0)\n",
      "Note: you may need to restart the kernel to use updated packages.\n"
     ]
    }
   ],
   "source": [
    "pip install openpyxl --upgrade"
   ]
  },
  {
   "cell_type": "code",
   "execution_count": 38,
   "id": "fab7332d",
   "metadata": {
    "scrolled": true
   },
   "outputs": [
    {
     "data": {
      "text/html": [
       "<div>\n",
       "<style scoped>\n",
       "    .dataframe tbody tr th:only-of-type {\n",
       "        vertical-align: middle;\n",
       "    }\n",
       "\n",
       "    .dataframe tbody tr th {\n",
       "        vertical-align: top;\n",
       "    }\n",
       "\n",
       "    .dataframe thead th {\n",
       "        text-align: right;\n",
       "    }\n",
       "</style>\n",
       "<table border=\"1\" class=\"dataframe\">\n",
       "  <thead>\n",
       "    <tr style=\"text-align: right;\">\n",
       "      <th></th>\n",
       "      <th>Excel/Tab Variable</th>\n",
       "      <th>SAS Variable</th>\n",
       "      <th>Description/Code book</th>\n",
       "    </tr>\n",
       "  </thead>\n",
       "  <tbody>\n",
       "    <tr>\n",
       "      <th>50</th>\n",
       "      <td>Diagnosis</td>\n",
       "      <td>Diag</td>\n",
       "      <td>Injury Diagnosis</td>\n",
       "    </tr>\n",
       "    <tr>\n",
       "      <th>81</th>\n",
       "      <td>Other_Diagnosis</td>\n",
       "      <td>Diagoth</td>\n",
       "      <td>Description of Other Diagnosis (Used with Diag...</td>\n",
       "    </tr>\n",
       "  </tbody>\n",
       "</table>\n",
       "</div>"
      ],
      "text/plain": [
       "   Excel/Tab Variable SAS Variable  \\\n",
       "50          Diagnosis         Diag   \n",
       "81    Other_Diagnosis      Diagoth   \n",
       "\n",
       "                                Description/Code book  \n",
       "50                                   Injury Diagnosis  \n",
       "81  Description of Other Diagnosis (Used with Diag...  "
      ]
     },
     "execution_count": 38,
     "metadata": {},
     "output_type": "execute_result"
    }
   ],
   "source": [
    "diagnoses.loc[(diagnoses['Excel/Tab Variable'] == 'Diagnosis') | (diagnoses['Excel/Tab Variable'] == 'Other_Diagnosis')]"
   ]
  },
  {
   "cell_type": "code",
   "execution_count": 39,
   "id": "1561bb84",
   "metadata": {},
   "outputs": [],
   "source": [
    "diagnoses_list = diagnoses.iloc[51:81,2].tolist()"
   ]
  },
  {
   "cell_type": "code",
   "execution_count": 40,
   "id": "35d9b5b4",
   "metadata": {},
   "outputs": [
    {
     "data": {
      "text/plain": [
       "['41 - Ingestion ',\n",
       " '42 - Aspiration ',\n",
       " '46 - Burns, Electrical ',\n",
       " '47 - Burns, Not Specified',\n",
       " '48 - Burns, Scald ',\n",
       " '49 - Burns, Chemical ',\n",
       " '50 - Amputaion ',\n",
       " '51 - Burns, Thermal ',\n",
       " '52 - Concussions',\n",
       " '53 - Contusions, Abrasions',\n",
       " '54 - Crushing',\n",
       " '55 - Dislocation',\n",
       " '56 - Foreign Body',\n",
       " '57 - Fracture',\n",
       " '58 - Hematoma',\n",
       " '59 - Laceration',\n",
       " '60 - Dental Injury',\n",
       " '61 - Nerve Damage',\n",
       " '62 - Internal Organ Injury',\n",
       " '63 - Puncture',\n",
       " '64 - Strain, Sprain',\n",
       " '65 - Anoxia',\n",
       " '66 - Hemorrhage',\n",
       " '67 - Electric Shock',\n",
       " '68 - Poisoning',\n",
       " '69 - Submersion',\n",
       " '71 - Other/Not Stated',\n",
       " '72 - Avulsion',\n",
       " '73 - Burns, Radiation',\n",
       " '74 - Dermatitis, Conjunctivitis']"
      ]
     },
     "execution_count": 40,
     "metadata": {},
     "output_type": "execute_result"
    }
   ],
   "source": [
    "diagnoses_list"
   ]
  },
  {
   "cell_type": "code",
   "execution_count": 41,
   "id": "4c6dcc0a",
   "metadata": {},
   "outputs": [],
   "source": [
    "diagnoses_dict = {}\n",
    "\n",
    "for x in diagnoses_list:\n",
    "    diagnosis = x.split('-')\n",
    "    diagnoses_dict[int(diagnosis[0].strip())] = diagnosis[1].strip()"
   ]
  },
  {
   "cell_type": "code",
   "execution_count": 42,
   "id": "1e59a95f",
   "metadata": {},
   "outputs": [
    {
     "data": {
      "text/plain": [
       "{41: 'Ingestion',\n",
       " 42: 'Aspiration',\n",
       " 46: 'Burns, Electrical',\n",
       " 47: 'Burns, Not Specified',\n",
       " 48: 'Burns, Scald',\n",
       " 49: 'Burns, Chemical',\n",
       " 50: 'Amputaion',\n",
       " 51: 'Burns, Thermal',\n",
       " 52: 'Concussions',\n",
       " 53: 'Contusions, Abrasions',\n",
       " 54: 'Crushing',\n",
       " 55: 'Dislocation',\n",
       " 56: 'Foreign Body',\n",
       " 57: 'Fracture',\n",
       " 58: 'Hematoma',\n",
       " 59: 'Laceration',\n",
       " 60: 'Dental Injury',\n",
       " 61: 'Nerve Damage',\n",
       " 62: 'Internal Organ Injury',\n",
       " 63: 'Puncture',\n",
       " 64: 'Strain, Sprain',\n",
       " 65: 'Anoxia',\n",
       " 66: 'Hemorrhage',\n",
       " 67: 'Electric Shock',\n",
       " 68: 'Poisoning',\n",
       " 69: 'Submersion',\n",
       " 71: 'Other/Not Stated',\n",
       " 72: 'Avulsion',\n",
       " 73: 'Burns, Radiation',\n",
       " 74: 'Dermatitis, Conjunctivitis'}"
      ]
     },
     "execution_count": 42,
     "metadata": {},
     "output_type": "execute_result"
    }
   ],
   "source": [
    "diagnoses_dict"
   ]
  },
  {
   "cell_type": "code",
   "execution_count": 43,
   "id": "0a465c6b",
   "metadata": {},
   "outputs": [
    {
     "data": {
      "text/plain": [
       "Diagnosis\n",
       "71.0    609\n",
       "62.0    210\n",
       "69.0     91\n",
       "65.0     65\n",
       "57.0     65\n",
       "59.0     33\n",
       "51.0     31\n",
       "53.0     22\n",
       "68.0     15\n",
       "67.0      5\n",
       "58.0      5\n",
       "66.0      4\n",
       "42.0      4\n",
       "63.0      4\n",
       "54.0      2\n",
       "52.0      1\n",
       "48.0      1\n",
       "72.0      1\n",
       "Name: count, dtype: int64"
      ]
     },
     "execution_count": 43,
     "metadata": {},
     "output_type": "execute_result"
    }
   ],
   "source": [
    "passed_away['Diagnosis'].value_counts()"
   ]
  },
  {
   "cell_type": "code",
   "execution_count": 16,
   "id": "c50f6783",
   "metadata": {},
   "outputs": [
    {
     "data": {
      "text/plain": [
       "824"
      ]
     },
     "execution_count": 16,
     "metadata": {},
     "output_type": "execute_result"
    }
   ],
   "source": [
    "male_df = passed_away[passed_away[\"Sex\"]==1.0]\n",
    "male_counts = male_df.shape[0]\n",
    "male_counts"
   ]
  },
  {
   "cell_type": "code",
   "execution_count": 17,
   "id": "487c9dfc",
   "metadata": {},
   "outputs": [
    {
     "data": {
      "text/plain": [
       "344"
      ]
     },
     "execution_count": 17,
     "metadata": {},
     "output_type": "execute_result"
    }
   ],
   "source": [
    "female_df = passed_away[passed_away[\"Sex\"]==2.0]\n",
    "female_counts = female_df.shape[0]\n",
    "female_counts"
   ]
  },
  {
   "cell_type": "code",
   "execution_count": 18,
   "id": "cf89a8e6",
   "metadata": {},
   "outputs": [
    {
     "data": {
      "text/plain": [
       "Diagnosis\n",
       "Other/Not Stated         446\n",
       "Internal Organ Injury    140\n",
       "Submersion                69\n",
       "Fracture                  40\n",
       "Anoxia                    39\n",
       "Laceration                23\n",
       "Burns, Thermal            21\n",
       "Contusions, Abrasions     14\n",
       "Poisoning                 13\n",
       "Electric Shock             5\n",
       "Aspiration                 4\n",
       "Puncture                   4\n",
       "Hemorrhage                 2\n",
       "Burns, Scald               1\n",
       "Hematoma                   1\n",
       "Crushing                   1\n",
       "Avulsion                   1\n",
       "dtype: int64"
      ]
     },
     "execution_count": 18,
     "metadata": {},
     "output_type": "execute_result"
    }
   ],
   "source": [
    "gr = male_df.groupby(\"Diagnosis\").size().sort_values(ascending = False)\n",
    "gr.index = gr.index.map(diagnoses_dict)\n",
    "gr"
   ]
  },
  {
   "cell_type": "code",
   "execution_count": 19,
   "id": "37e553c2",
   "metadata": {},
   "outputs": [
    {
     "data": {
      "text/plain": [
       "Diagnosis\n",
       "Other/Not Stated         163\n",
       "Internal Organ Injury     70\n",
       "Anoxia                    26\n",
       "Fracture                  25\n",
       "Submersion                22\n",
       "Burns, Thermal            10\n",
       "Laceration                10\n",
       "Contusions, Abrasions      8\n",
       "Hematoma                   4\n",
       "Hemorrhage                 2\n",
       "Poisoning                  2\n",
       "Concussions                1\n",
       "Crushing                   1\n",
       "dtype: int64"
      ]
     },
     "execution_count": 19,
     "metadata": {},
     "output_type": "execute_result"
    }
   ],
   "source": [
    "gr2 = female_df.groupby(\"Diagnosis\").size().sort_values(ascending = False)\n",
    "gr2.index = gr2.index.map(diagnoses_dict)\n",
    "gr2"
   ]
  },
  {
   "cell_type": "markdown",
   "id": "3e1ea70e",
   "metadata": {},
   "source": [
    "Race analysis on dataset by Rui\n",
    "What are the biggest causes of death for different age groups, genders, and races\n",
    "1. Set up Python virtual environment(Already done in outer directory)\n",
    "   1. shift + cmd + p, virtual environment\n",
    "   2. source .venv/bin/activate\n",
    "   3. pip install pandas\n",
    "2. Read the whole dataset, filter all death records\n",
    "3. Find the column I need: Race\n",
    "4. Get the subset of dataset based on each race"
   ]
  },
  {
   "cell_type": "code",
   "execution_count": 20,
   "id": "7632c2dc",
   "metadata": {},
   "outputs": [
    {
     "data": {
      "text/plain": [
       "Race\n",
       "0.0    540\n",
       "1.0    408\n",
       "2.0    171\n",
       "3.0     28\n",
       "4.0     17\n",
       "5.0      3\n",
       "6.0      1\n",
       "Name: count, dtype: int64"
      ]
     },
     "execution_count": 20,
     "metadata": {},
     "output_type": "execute_result"
    }
   ],
   "source": [
    "passed_away[\"Race\"].value_counts()      # Count the occurance by column \"Race\""
   ]
  },
  {
   "cell_type": "code",
   "execution_count": 21,
   "id": "f96f8abe",
   "metadata": {},
   "outputs": [],
   "source": [
    "white_df = passed_away[passed_away[\"Race\"]==1.0]\n",
    "white_counts = white_df.shape[0]\n",
    "\n",
    "black_df = passed_away[passed_away[\"Race\"]==2.0]\n",
    "black_counts = black_df.shape[0]\n",
    "\n",
    "asian_df = passed_away[passed_away[\"Race\"]==4.0]\n",
    "asian_counts = asian_df.shape[0]\n",
    "\n",
    "native_df = passed_away[passed_away[\"Race\"]==5.0]\n",
    "native_counts = native_df.shape[0]\n",
    "\n",
    "islander_df = passed_away[passed_away[\"Race\"]==6.0]\n",
    "islander_counts = islander_df.shape[0]"
   ]
  },
  {
   "cell_type": "code",
   "execution_count": 22,
   "id": "09c59ea9",
   "metadata": {},
   "outputs": [
    {
     "data": {
      "text/plain": [
       "Diagnosis\n",
       "Other/Not Stated         193\n",
       "Internal Organ Injury     78\n",
       "Submersion                28\n",
       "Fracture                  25\n",
       "Anoxia                    22\n",
       "dtype: int64"
      ]
     },
     "execution_count": 22,
     "metadata": {},
     "output_type": "execute_result"
    }
   ],
   "source": [
    "# White\n",
    "white_diagnosis_count = white_df.groupby(\"Diagnosis\").size().sort_values(ascending = False)\n",
    "white_diagnosis_count.index = white_diagnosis_count.index.map(diagnoses_dict)\n",
    "white_diagnosis_count.head()"
   ]
  },
  {
   "cell_type": "code",
   "execution_count": 23,
   "id": "247c988a",
   "metadata": {},
   "outputs": [
    {
     "data": {
      "text/plain": [
       "Diagnosis\n",
       "Other/Not Stated         92\n",
       "Internal Organ Injury    22\n",
       "Anoxia                   18\n",
       "Submersion               15\n",
       "Burns, Thermal            8\n",
       "dtype: int64"
      ]
     },
     "execution_count": 23,
     "metadata": {},
     "output_type": "execute_result"
    }
   ],
   "source": [
    "# Black\n",
    "black_diagnosis_count = black_df.groupby(\"Diagnosis\").size().sort_values(ascending = False)\n",
    "black_diagnosis_count.index = black_diagnosis_count.index.map(diagnoses_dict)\n",
    "black_diagnosis_count.head()"
   ]
  },
  {
   "cell_type": "code",
   "execution_count": 24,
   "id": "3a4f734d",
   "metadata": {},
   "outputs": [
    {
     "data": {
      "text/plain": [
       "Diagnosis\n",
       "Other/Not Stated         8\n",
       "Internal Organ Injury    4\n",
       "Submersion               3\n",
       "Crushing                 1\n",
       "Poisoning                1\n",
       "dtype: int64"
      ]
     },
     "execution_count": 24,
     "metadata": {},
     "output_type": "execute_result"
    }
   ],
   "source": [
    "# Asian\n",
    "asian_diagnosis_count = asian_df.groupby(\"Diagnosis\").size().sort_values(ascending = False)\n",
    "asian_diagnosis_count.index = asian_diagnosis_count.index.map(diagnoses_dict)\n",
    "asian_diagnosis_count.head()"
   ]
  },
  {
   "cell_type": "code",
   "execution_count": 25,
   "id": "7776d9b1",
   "metadata": {},
   "outputs": [
    {
     "data": {
      "text/plain": [
       "Diagnosis\n",
       "Fracture                 1\n",
       "Internal Organ Injury    1\n",
       "Other/Not Stated         1\n",
       "dtype: int64"
      ]
     },
     "execution_count": 25,
     "metadata": {},
     "output_type": "execute_result"
    }
   ],
   "source": [
    "# Native\n",
    "native_diagnosis_count = native_df.groupby(\"Diagnosis\").size().sort_values(ascending = False)\n",
    "native_diagnosis_count.index = native_diagnosis_count.index.map(diagnoses_dict)\n",
    "native_diagnosis_count.head()"
   ]
  },
  {
   "cell_type": "code",
   "execution_count": 26,
   "id": "4d443d47",
   "metadata": {},
   "outputs": [
    {
     "data": {
      "text/plain": [
       "Diagnosis\n",
       "Contusions, Abrasions    1\n",
       "dtype: int64"
      ]
     },
     "execution_count": 26,
     "metadata": {},
     "output_type": "execute_result"
    }
   ],
   "source": [
    "# Ialand\n",
    "islander_diagnosis_count = islander_df.groupby(\"Diagnosis\").size().sort_values(ascending = False)\n",
    "islander_diagnosis_count.index = islander_diagnosis_count.index.map(diagnoses_dict)\n",
    "islander_diagnosis_count.head()"
   ]
  },
  {
   "cell_type": "markdown",
   "id": "019f7eaa",
   "metadata": {},
   "source": [
    "Age analysis - Labiba"
   ]
  },
  {
   "cell_type": "code",
   "execution_count": 94,
   "id": "7d77ce89",
   "metadata": {},
   "outputs": [
    {
     "data": {
      "text/plain": [
       "age_bin\n",
       "elderly         509\n",
       "adult           194\n",
       "very old        192\n",
       "infant          115\n",
       "child            90\n",
       "adolescent       53\n",
       "not recorded     15\n",
       "Name: count, dtype: int64"
      ]
     },
     "execution_count": 94,
     "metadata": {},
     "output_type": "execute_result"
    }
   ],
   "source": [
    "passed_away[\"age_bin\"].value_counts()      "
   ]
  },
  {
   "cell_type": "code",
   "execution_count": 95,
   "id": "566cef40",
   "metadata": {},
   "outputs": [],
   "source": [
    "age_dfs = [passed_away[passed_away['age_bin'] == x] for x in labels]"
   ]
  },
  {
   "cell_type": "code",
   "execution_count": 96,
   "id": "a4650aed",
   "metadata": {},
   "outputs": [
    {
     "name": "stdout",
     "output_type": "stream",
     "text": [
      "Age group: not recorded\n",
      "Diagnosis\n",
      "Other/Not Stated    11\n",
      "Anoxia               3\n",
      "Avulsion             1\n",
      "dtype: int64\n",
      "\n",
      "\n",
      "Age group: child\n",
      "Diagnosis\n",
      "Submersion               35\n",
      "Other/Not Stated         21\n",
      "Anoxia                   15\n",
      "Internal Organ Injury    10\n",
      "Burns, Thermal            2\n",
      "Hemorrhage                2\n",
      "Aspiration                1\n",
      "Fracture                  1\n",
      "Laceration                1\n",
      "Puncture                  1\n",
      "Electric Shock            1\n",
      "dtype: int64\n",
      "\n",
      "\n",
      "Age group: adolescent\n",
      "Diagnosis\n",
      "Other/Not Stated         18\n",
      "Internal Organ Injury    15\n",
      "Submersion               11\n",
      "Anoxia                    4\n",
      "Fracture                  3\n",
      "Poisoning                 2\n",
      "dtype: int64\n",
      "\n",
      "\n",
      "Age group: adult\n",
      "Diagnosis\n",
      "Other/Not Stated         97\n",
      "Internal Organ Injury    26\n",
      "Fracture                 13\n",
      "Anoxia                   11\n",
      "Poisoning                10\n",
      "Submersion                9\n",
      "Laceration                7\n",
      "Burns, Thermal            6\n",
      "Contusions, Abrasions     5\n",
      "Puncture                  3\n",
      "Electric Shock            3\n",
      "Crushing                  2\n",
      "Concussions               1\n",
      "Hemorrhage                1\n",
      "dtype: int64\n",
      "\n",
      "\n",
      "Age group: elderly\n",
      "Diagnosis\n",
      "Other/Not Stated         304\n",
      "Internal Organ Injury     94\n",
      "Fracture                  24\n",
      "Burns, Thermal            22\n",
      "Submersion                19\n",
      "Laceration                16\n",
      "Anoxia                    12\n",
      "Contusions, Abrasions     11\n",
      "Hematoma                   3\n",
      "Poisoning                  2\n",
      "Hemorrhage                 1\n",
      "Electric Shock             1\n",
      "dtype: int64\n",
      "\n",
      "\n",
      "Age group: very old\n",
      "Diagnosis\n",
      "Other/Not Stated         85\n",
      "Internal Organ Injury    61\n",
      "Fracture                 23\n",
      "Laceration                8\n",
      "Contusions, Abrasions     5\n",
      "Submersion                5\n",
      "Hematoma                  2\n",
      "Aspiration                1\n",
      "Burns, Thermal            1\n",
      "Anoxia                    1\n",
      "dtype: int64\n",
      "\n",
      "\n",
      "Age group: infant\n",
      "Diagnosis\n",
      "Other/Not Stated         73\n",
      "Anoxia                   19\n",
      "Submersion               12\n",
      "Internal Organ Injury     4\n",
      "Aspiration                2\n",
      "Burns, Scald              1\n",
      "Contusions, Abrasions     1\n",
      "Fracture                  1\n",
      "Laceration                1\n",
      "Poisoning                 1\n",
      "dtype: int64\n",
      "\n",
      "\n"
     ]
    }
   ],
   "source": [
    "for i in range(len(age_dfs)):\n",
    "    diagnosis_count = age_dfs[i].groupby(\"Diagnosis\").size().sort_values(ascending = False)\n",
    "    diagnosis_count.index = diagnosis_count.index.map(diagnoses_dict)\n",
    "    print(\"Age group: %s\" %labels[i])\n",
    "    print(diagnosis_count)\n",
    "    print(\"\\n\")"
   ]
  }
 ],
 "metadata": {
  "kernelspec": {
   "display_name": "Python 3 (ipykernel)",
   "language": "python",
   "name": "python3"
  },
  "language_info": {
   "codemirror_mode": {
    "name": "ipython",
    "version": 3
   },
   "file_extension": ".py",
   "mimetype": "text/x-python",
   "name": "python",
   "nbconvert_exporter": "python",
   "pygments_lexer": "ipython3",
   "version": "3.9.13"
  }
 },
 "nbformat": 4,
 "nbformat_minor": 5
}
