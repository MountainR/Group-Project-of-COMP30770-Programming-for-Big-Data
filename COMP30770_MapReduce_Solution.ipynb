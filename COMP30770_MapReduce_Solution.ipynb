{
  "cells": [
    {
      "cell_type": "code",
      "source": [
        "!pip install memory_profiler\n",
        "%load_ext memory_profiler"
      ],
      "metadata": {
        "colab": {
          "base_uri": "https://localhost:8080/"
        },
        "id": "uVOcGS86iqrC",
        "outputId": "b978a0b9-9aa7-4e81-b97c-1e80d123ca99"
      },
      "execution_count": 46,
      "outputs": [
        {
          "output_type": "stream",
          "name": "stdout",
          "text": [
            "Collecting memory_profiler\n",
            "  Downloading memory_profiler-0.61.0-py3-none-any.whl.metadata (20 kB)\n",
            "Requirement already satisfied: psutil in /usr/local/lib/python3.11/dist-packages (from memory_profiler) (5.9.5)\n",
            "Downloading memory_profiler-0.61.0-py3-none-any.whl (31 kB)\n",
            "Installing collected packages: memory_profiler\n",
            "Successfully installed memory_profiler-0.61.0\n",
            "time: 3.43 s (started: 2025-03-23 15:06:51 +00:00)\n"
          ]
        }
      ]
    },
    {
      "cell_type": "code",
      "execution_count": null,
      "metadata": {
        "id": "MP2h_nt35AZt",
        "colab": {
          "base_uri": "https://localhost:8080/"
        },
        "outputId": "d35e3678-d3a6-4ab3-e643-ef22dfea5f96"
      },
      "outputs": [
        {
          "output_type": "stream",
          "name": "stdout",
          "text": [
            "Collecting ipython-autotime\n",
            "  Downloading ipython_autotime-0.3.2-py2.py3-none-any.whl.metadata (1.4 kB)\n",
            "Requirement already satisfied: ipython in /usr/local/lib/python3.11/dist-packages (from ipython-autotime) (7.34.0)\n",
            "Requirement already satisfied: setuptools>=18.5 in /usr/local/lib/python3.11/dist-packages (from ipython->ipython-autotime) (75.1.0)\n",
            "Collecting jedi>=0.16 (from ipython->ipython-autotime)\n",
            "  Downloading jedi-0.19.2-py2.py3-none-any.whl.metadata (22 kB)\n",
            "Requirement already satisfied: decorator in /usr/local/lib/python3.11/dist-packages (from ipython->ipython-autotime) (4.4.2)\n",
            "Requirement already satisfied: pickleshare in /usr/local/lib/python3.11/dist-packages (from ipython->ipython-autotime) (0.7.5)\n",
            "Requirement already satisfied: traitlets>=4.2 in /usr/local/lib/python3.11/dist-packages (from ipython->ipython-autotime) (5.7.1)\n",
            "Requirement already satisfied: prompt-toolkit!=3.0.0,!=3.0.1,<3.1.0,>=2.0.0 in /usr/local/lib/python3.11/dist-packages (from ipython->ipython-autotime) (3.0.50)\n",
            "Requirement already satisfied: pygments in /usr/local/lib/python3.11/dist-packages (from ipython->ipython-autotime) (2.18.0)\n",
            "Requirement already satisfied: backcall in /usr/local/lib/python3.11/dist-packages (from ipython->ipython-autotime) (0.2.0)\n",
            "Requirement already satisfied: matplotlib-inline in /usr/local/lib/python3.11/dist-packages (from ipython->ipython-autotime) (0.1.7)\n",
            "Requirement already satisfied: pexpect>4.3 in /usr/local/lib/python3.11/dist-packages (from ipython->ipython-autotime) (4.9.0)\n",
            "Requirement already satisfied: parso<0.9.0,>=0.8.4 in /usr/local/lib/python3.11/dist-packages (from jedi>=0.16->ipython->ipython-autotime) (0.8.4)\n",
            "Requirement already satisfied: ptyprocess>=0.5 in /usr/local/lib/python3.11/dist-packages (from pexpect>4.3->ipython->ipython-autotime) (0.7.0)\n",
            "Requirement already satisfied: wcwidth in /usr/local/lib/python3.11/dist-packages (from prompt-toolkit!=3.0.0,!=3.0.1,<3.1.0,>=2.0.0->ipython->ipython-autotime) (0.2.13)\n",
            "Downloading ipython_autotime-0.3.2-py2.py3-none-any.whl (7.0 kB)\n",
            "Downloading jedi-0.19.2-py2.py3-none-any.whl (1.6 MB)\n",
            "\u001b[2K   \u001b[90m━━━━━━━━━━━━━━━━━━━━━━━━━━━━━━━━━━━━━━━━\u001b[0m \u001b[32m1.6/1.6 MB\u001b[0m \u001b[31m17.7 MB/s\u001b[0m eta \u001b[36m0:00:00\u001b[0m\n",
            "\u001b[?25hInstalling collected packages: jedi, ipython-autotime\n",
            "Successfully installed ipython-autotime-0.3.2 jedi-0.19.2\n",
            "time: 273 µs (started: 2025-03-23 14:47:47 +00:00)\n"
          ]
        }
      ],
      "source": [
        "!apt-get install openjdk-8-jdk-headless -qq > /dev/null\n",
        "!pip install ipython-autotime\n",
        "%load_ext autotime"
      ]
    },
    {
      "cell_type": "code",
      "execution_count": null,
      "metadata": {
        "colab": {
          "base_uri": "https://localhost:8080/"
        },
        "id": "QuI0ViIS8O7E",
        "outputId": "da526184-c652-4bbe-c616-ebc684e0f267"
      },
      "outputs": [
        {
          "name": "stdout",
          "output_type": "stream",
          "text": [
            "Python 3.11.11\n"
          ]
        }
      ],
      "source": [
        "!python --version"
      ]
    },
    {
      "cell_type": "code",
      "execution_count": null,
      "metadata": {
        "colab": {
          "base_uri": "https://localhost:8080/"
        },
        "id": "6fcgKivS8PVS",
        "outputId": "36b2c326-dd88-4224-9d91-2db8f5aeb046"
      },
      "outputs": [
        {
          "name": "stdout",
          "output_type": "stream",
          "text": [
            "--2025-03-23 13:19:47--  https://archive.apache.org/dist/spark/spark-3.5.3/spark-3.5.3-bin-hadoop3.tgz\n",
            "Resolving archive.apache.org (archive.apache.org)... 65.108.204.189, 2a01:4f9:1a:a084::2\n",
            "Connecting to archive.apache.org (archive.apache.org)|65.108.204.189|:443... connected.\n",
            "HTTP request sent, awaiting response... 200 OK\n",
            "Length: 400864419 (382M) [application/x-gzip]\n",
            "Saving to: ‘spark-3.5.3-bin-hadoop3.tgz’\n",
            "\n",
            "spark-3.5.3-bin-had 100%[===================>] 382.29M  18.8MB/s    in 22s     \n",
            "\n",
            "2025-03-23 13:20:09 (17.6 MB/s) - ‘spark-3.5.3-bin-hadoop3.tgz’ saved [400864419/400864419]\n",
            "\n"
          ]
        }
      ],
      "source": [
        "!wget https://archive.apache.org/dist/spark/spark-3.5.3/spark-3.5.3-bin-hadoop3.tgz\n",
        "!tar xf spark-3.5.3-bin-hadoop3.tgz\n",
        "!rm spark-3.5.3-bin-hadoop3.tgz   # Tidying up"
      ]
    },
    {
      "cell_type": "code",
      "execution_count": null,
      "metadata": {
        "id": "9oayebJ78TDi"
      },
      "outputs": [],
      "source": [
        "# Setting up our environmental variables:\n",
        "import os\n",
        "os.environ[\"JAVA_HOME\"] = \"/usr/lib/jvm/java-8-openjdk-amd64\"\n",
        "os.environ[\"SPARK_HOME\"] = \"/content/spark-3.5.3-bin-hadoop3\""
      ]
    },
    {
      "cell_type": "code",
      "execution_count": null,
      "metadata": {
        "id": "GSctJiyw8U8n"
      },
      "outputs": [],
      "source": [
        "!pip install -q findspark\n",
        "import findspark\n",
        "findspark.init()"
      ]
    },
    {
      "cell_type": "code",
      "execution_count": null,
      "metadata": {
        "colab": {
          "base_uri": "https://localhost:8080/",
          "height": 237
        },
        "id": "yNVtA3R78WfL",
        "outputId": "dfd9b14a-0f96-47e7-ffb6-373c5c98b3db"
      },
      "outputs": [
        {
          "output_type": "execute_result",
          "data": {
            "text/plain": [
              "<pyspark.sql.session.SparkSession at 0x7a9a36ef8c50>"
            ],
            "text/html": [
              "\n",
              "            <div>\n",
              "                <p><b>SparkSession - in-memory</b></p>\n",
              "                \n",
              "        <div>\n",
              "            <p><b>SparkContext</b></p>\n",
              "\n",
              "            <p><a href=\"http://71cc45b82427:4040\">Spark UI</a></p>\n",
              "\n",
              "            <dl>\n",
              "              <dt>Version</dt>\n",
              "                <dd><code>v3.5.5</code></dd>\n",
              "              <dt>Master</dt>\n",
              "                <dd><code>local[*]</code></dd>\n",
              "              <dt>AppName</dt>\n",
              "                <dd><code>pyspark-shell</code></dd>\n",
              "            </dl>\n",
              "        </div>\n",
              "        \n",
              "            </div>\n",
              "        "
            ]
          },
          "metadata": {},
          "execution_count": 2
        },
        {
          "output_type": "stream",
          "name": "stdout",
          "text": [
            "time: 16.2 s (started: 2025-03-23 14:48:01 +00:00)\n"
          ]
        }
      ],
      "source": [
        "from pyspark.sql import SparkSession\n",
        "spark = SparkSession.builder.master(\"local[*]\").getOrCreate()\n",
        "spark.conf.set(\"spark.sql.repl.eagerEval.enabled\", True) #  This will format our output tables a bit nicer when not using the show() method\n",
        "spark"
      ]
    },
    {
      "cell_type": "code",
      "execution_count": null,
      "metadata": {
        "colab": {
          "base_uri": "https://localhost:8080/"
        },
        "id": "1oTr8oCU8XlM",
        "outputId": "625788ff-29c7-4482-bdd5-4a40f519c5a5"
      },
      "outputs": [
        {
          "output_type": "stream",
          "name": "stdout",
          "text": [
            "2\n",
            "time: 8.44 ms (started: 2025-03-23 14:48:27 +00:00)\n"
          ]
        }
      ],
      "source": [
        "import multiprocessing\n",
        "print(multiprocessing.cpu_count())"
      ]
    },
    {
      "cell_type": "code",
      "execution_count": null,
      "metadata": {
        "id": "K11T1N1o8x-s",
        "colab": {
          "base_uri": "https://localhost:8080/"
        },
        "outputId": "d91155c2-e5ff-467e-81ce-f9036882c383"
      },
      "outputs": [
        {
          "output_type": "stream",
          "name": "stdout",
          "text": [
            "time: 363 µs (started: 2025-03-23 14:48:28 +00:00)\n"
          ]
        }
      ],
      "source": [
        "# Creating our SparkContext:\n",
        "sc = spark.sparkContext"
      ]
    },
    {
      "cell_type": "code",
      "execution_count": null,
      "metadata": {
        "colab": {
          "base_uri": "https://localhost:8080/"
        },
        "id": "D-UdMdD3AQvy",
        "outputId": "8bc864f4-0443-4c0f-a3b3-687bf25bb7bc"
      },
      "outputs": [
        {
          "output_type": "stream",
          "name": "stdout",
          "text": [
            "/content/sample_data/assignment_data\n",
            "time: 1.96 ms (started: 2025-03-23 14:50:08 +00:00)\n"
          ]
        }
      ],
      "source": [
        "%cd /content/sample_data/assignment_data/"
      ]
    },
    {
      "cell_type": "code",
      "execution_count": null,
      "metadata": {
        "id": "bzZNVwg4CaGj",
        "colab": {
          "base_uri": "https://localhost:8080/"
        },
        "outputId": "d93ccac1-2943-4865-c374-5671a7a0bdaa"
      },
      "outputs": [
        {
          "output_type": "stream",
          "name": "stdout",
          "text": [
            "time: 440 ms (started: 2025-03-23 14:50:10 +00:00)\n"
          ]
        }
      ],
      "source": [
        "fin = open('NEISS.TXT', encoding='latin1')\n",
        "data = fin.read()\n",
        "fin.close()"
      ]
    },
    {
      "cell_type": "code",
      "execution_count": null,
      "metadata": {
        "id": "ZVnM0v6qDkMb",
        "colab": {
          "base_uri": "https://localhost:8080/"
        },
        "outputId": "ad452989-514e-4224-8dd2-c11917541fda"
      },
      "outputs": [
        {
          "output_type": "stream",
          "name": "stdout",
          "text": [
            "time: 17.6 s (started: 2025-03-23 14:50:29 +00:00)\n"
          ]
        }
      ],
      "source": [
        "df = spark.read.options(delimiter=\"\\t\", header=True, inferSchema=True).csv(\"/content/sample_data/assignment_data/NEISS.TXT\")"
      ]
    },
    {
      "cell_type": "code",
      "execution_count": null,
      "metadata": {
        "colab": {
          "base_uri": "https://localhost:8080/"
        },
        "id": "5ALp61SIEZQs",
        "outputId": "40f3faae-4e0a-45bb-9e98-6d55db5f1290"
      },
      "outputs": [
        {
          "output_type": "stream",
          "name": "stdout",
          "text": [
            "root\n",
            " |-- CPSC_Case_Number: string (nullable = true)\n",
            " |-- Treatment_Date: string (nullable = true)\n",
            " |-- Age: integer (nullable = true)\n",
            " |-- Sex: double (nullable = true)\n",
            " |-- Race: integer (nullable = true)\n",
            " |-- Other_Race: string (nullable = true)\n",
            " |-- Hispanic: string (nullable = true)\n",
            " |-- Body_Part: integer (nullable = true)\n",
            " |-- Diagnosis: integer (nullable = true)\n",
            " |-- Other_Diagnosis: string (nullable = true)\n",
            " |-- Body_Part_2: string (nullable = true)\n",
            " |-- Diagnosis_2: string (nullable = true)\n",
            " |-- Other_Diagnosis_2: string (nullable = true)\n",
            " |-- Disposition: integer (nullable = true)\n",
            " |-- Location: integer (nullable = true)\n",
            " |-- Fire_Involvement: integer (nullable = true)\n",
            " |-- Alcohol: string (nullable = true)\n",
            " |-- Drug: string (nullable = true)\n",
            " |-- Product_1: integer (nullable = true)\n",
            " |-- Product_2: integer (nullable = true)\n",
            " |-- Product_3: integer (nullable = true)\n",
            " |-- Narrative: string (nullable = true)\n",
            " |-- Stratum: string (nullable = true)\n",
            " |-- PSU: integer (nullable = true)\n",
            " |-- Weight: double (nullable = true)\n",
            "\n",
            "time: 4.28 ms (started: 2025-03-23 14:50:50 +00:00)\n"
          ]
        }
      ],
      "source": [
        "df.printSchema()"
      ]
    },
    {
      "cell_type": "code",
      "execution_count": 48,
      "metadata": {
        "colab": {
          "base_uri": "https://localhost:8080/"
        },
        "id": "NmfSWxYJEevo",
        "outputId": "a0194e4e-0065-4ca2-d3f4-6d1f3b3d9d61"
      },
      "outputs": [
        {
          "output_type": "stream",
          "name": "stdout",
          "text": [
            "+----------------+--------------+---+---+----+----------+--------+---------+---------+---------------+-----------+-----------+-----------------+-----------+--------+----------------+-------+----+---------+---------+---------+--------------------+-------+---+--------+\n",
            "|CPSC_Case_Number|Treatment_Date|Age|Sex|Race|Other_Race|Hispanic|Body_Part|Diagnosis|Other_Diagnosis|Body_Part_2|Diagnosis_2|Other_Diagnosis_2|Disposition|Location|Fire_Involvement|Alcohol|Drug|Product_1|Product_2|Product_3|           Narrative|Stratum|PSU|  Weight|\n",
            "+----------------+--------------+---+---+----+----------+--------+---------+---------+---------------+-----------+-----------+-----------------+-----------+--------+----------------+-------+----+---------+---------+---------+--------------------+-------+---+--------+\n",
            "|       160101845|    01/01/2016| 92|1.0|   0|      NULL|    NULL|       79|       57|           NULL|       NULL|       NULL|             NULL|          4|       1|               0|   NULL|NULL|     1645|     1807|        0|92YOM TRYINGO TO ...|      M| 63|103.2251|\n",
            "|       160101847|    01/01/2016| 90|1.0|   0|      NULL|    NULL|       79|       57|           NULL|       NULL|       NULL|             NULL|          4|       1|               0|   NULL|NULL|      670|        0|        0|90YOM FELL GETTIN...|      M| 63|103.2251|\n",
            "|       160101848|    01/01/2016| 71|2.0|   0|      NULL|    NULL|       79|       57|           NULL|       NULL|       NULL|             NULL|          4|       1|               0|   NULL|NULL|     1807|        0|        0|71YOF SLIPPED AND...|      M| 63|103.2251|\n",
            "|       160101852|    01/01/2016| 71|2.0|   0|      NULL|    NULL|       31|       64|           NULL|       NULL|       NULL|             NULL|          1|       0|               0|   NULL|NULL|     1144|        0|        0|71YOF CARRYING A ...|      M| 63|103.2251|\n",
            "|       160101857|    01/01/2016| 57|1.0|   0|      NULL|    NULL|       83|       59|           NULL|       NULL|       NULL|             NULL|          1|       1|               0|   NULL|NULL|      464|        0|        0|57YOM DROPPED A K...|      M| 63|103.2251|\n",
            "+----------------+--------------+---+---+----+----------+--------+---------+---------+---------------+-----------+-----------+-----------------+-----------+--------+----------------+-------+----+---------+---------+---------+--------------------+-------+---+--------+\n",
            "only showing top 5 rows\n",
            "\n",
            "time: 157 ms (started: 2025-03-23 15:07:08 +00:00)\n"
          ]
        }
      ],
      "source": [
        "df.select(\"*\").show(5)"
      ]
    },
    {
      "cell_type": "code",
      "execution_count": null,
      "metadata": {
        "id": "f1BqCQS0IWR_",
        "colab": {
          "base_uri": "https://localhost:8080/"
        },
        "outputId": "529a4cd5-b1dc-4bcd-8274-ac0cb70f5c0e"
      },
      "outputs": [
        {
          "output_type": "stream",
          "name": "stdout",
          "text": [
            "time: 946 ms (started: 2025-03-23 14:50:55 +00:00)\n"
          ]
        }
      ],
      "source": [
        "from pyspark.ml.feature import Bucketizer\n",
        "bins = [0,2,11,21,51,81,121,224]\n",
        "df2 = Bucketizer(splits=bins,inputCol='Age',outputCol='Age_bins').transform(df)"
      ]
    },
    {
      "cell_type": "code",
      "execution_count": null,
      "metadata": {
        "colab": {
          "base_uri": "https://localhost:8080/"
        },
        "id": "FU9mYMSwIp2I",
        "outputId": "ff41cc31-7d34-48b1-f049-6647e8e4026d"
      },
      "outputs": [
        {
          "output_type": "stream",
          "name": "stdout",
          "text": [
            "+----------------+--------------+---+---+----+----------+--------+---------+---------+---------------+-----------+-----------+-----------------+-----------+--------+----------------+-------+----+---------+---------+---------+--------------------+-------+---+--------+--------+\n",
            "|CPSC_Case_Number|Treatment_Date|Age|Sex|Race|Other_Race|Hispanic|Body_Part|Diagnosis|Other_Diagnosis|Body_Part_2|Diagnosis_2|Other_Diagnosis_2|Disposition|Location|Fire_Involvement|Alcohol|Drug|Product_1|Product_2|Product_3|           Narrative|Stratum|PSU|  Weight|Age_bins|\n",
            "+----------------+--------------+---+---+----+----------+--------+---------+---------+---------------+-----------+-----------+-----------------+-----------+--------+----------------+-------+----+---------+---------+---------+--------------------+-------+---+--------+--------+\n",
            "|       160101845|    01/01/2016| 92|1.0|   0|      NULL|    NULL|       79|       57|           NULL|       NULL|       NULL|             NULL|          4|       1|               0|   NULL|NULL|     1645|     1807|        0|92YOM TRYINGO TO ...|      M| 63|103.2251|     5.0|\n",
            "|       160101847|    01/01/2016| 90|1.0|   0|      NULL|    NULL|       79|       57|           NULL|       NULL|       NULL|             NULL|          4|       1|               0|   NULL|NULL|      670|        0|        0|90YOM FELL GETTIN...|      M| 63|103.2251|     5.0|\n",
            "|       160101848|    01/01/2016| 71|2.0|   0|      NULL|    NULL|       79|       57|           NULL|       NULL|       NULL|             NULL|          4|       1|               0|   NULL|NULL|     1807|        0|        0|71YOF SLIPPED AND...|      M| 63|103.2251|     4.0|\n",
            "|       160101852|    01/01/2016| 71|2.0|   0|      NULL|    NULL|       31|       64|           NULL|       NULL|       NULL|             NULL|          1|       0|               0|   NULL|NULL|     1144|        0|        0|71YOF CARRYING A ...|      M| 63|103.2251|     4.0|\n",
            "|       160101857|    01/01/2016| 57|1.0|   0|      NULL|    NULL|       83|       59|           NULL|       NULL|       NULL|             NULL|          1|       1|               0|   NULL|NULL|      464|        0|        0|57YOM DROPPED A K...|      M| 63|103.2251|     4.0|\n",
            "+----------------+--------------+---+---+----+----------+--------+---------+---------+---------------+-----------+-----------+-----------------+-----------+--------+----------------+-------+----+---------+---------+---------+--------------------+-------+---+--------+--------+\n",
            "only showing top 5 rows\n",
            "\n",
            "time: 1.44 s (started: 2025-03-23 14:50:57 +00:00)\n"
          ]
        }
      ],
      "source": [
        "df2.select(\"*\").show(5)"
      ]
    },
    {
      "cell_type": "code",
      "execution_count": null,
      "metadata": {
        "id": "niOQpR3MIrQg",
        "colab": {
          "base_uri": "https://localhost:8080/"
        },
        "outputId": "efedec91-b663-4b59-d298-fc443de2364f"
      },
      "outputs": [
        {
          "output_type": "stream",
          "name": "stdout",
          "text": [
            "time: 50.8 ms (started: 2025-03-23 14:51:00 +00:00)\n"
          ]
        }
      ],
      "source": [
        "from pyspark.sql.functions import lit, map_from_arrays, array, col\n",
        "age_dict = {0:'Not Recorded', 1:'Child', 2:'Adolescent',3:'Adult',4:'Elderly',5:'Very old',6:'Infant'}\n",
        "keys = array(list(map(lit, age_dict.keys())))\n",
        "values = array(list(map(lit, age_dict.values())))\n",
        "age_map = map_from_arrays(keys, values)"
      ]
    },
    {
      "cell_type": "code",
      "execution_count": null,
      "metadata": {
        "colab": {
          "base_uri": "https://localhost:8080/"
        },
        "id": "ChwMZI-QJghx",
        "outputId": "841e6166-4dcc-4ff5-eadc-c7405158fe48"
      },
      "outputs": [
        {
          "output_type": "stream",
          "name": "stdout",
          "text": [
            "time: 78 ms (started: 2025-03-23 14:51:02 +00:00)\n"
          ]
        },
        {
          "output_type": "stream",
          "name": "stderr",
          "text": [
            "/usr/local/lib/python3.11/dist-packages/pyspark/sql/column.py:460: FutureWarning: A column as 'key' in getItem is deprecated as of Spark 3.0, and will not be supported in the future release. Use `column[key]` or `column.key` syntax instead.\n",
            "  warnings.warn(\n"
          ]
        }
      ],
      "source": [
        "df2 = df2.withColumn(\"Age_Categories\", age_map.getItem(col(\"Age_bins\")))"
      ]
    },
    {
      "cell_type": "code",
      "execution_count": null,
      "metadata": {
        "colab": {
          "base_uri": "https://localhost:8080/"
        },
        "id": "Xh4xrZpfKDQo",
        "outputId": "d8cae15b-3f9b-441a-f94f-81d49d9e33c3"
      },
      "outputs": [
        {
          "output_type": "stream",
          "name": "stdout",
          "text": [
            "+----------------+--------------+---+---+----+----------+--------+---------+---------+---------------+-----------+-----------+-----------------+-----------+--------+----------------+-------+----+---------+---------+---------+--------------------+-------+---+--------+--------+--------------+\n",
            "|CPSC_Case_Number|Treatment_Date|Age|Sex|Race|Other_Race|Hispanic|Body_Part|Diagnosis|Other_Diagnosis|Body_Part_2|Diagnosis_2|Other_Diagnosis_2|Disposition|Location|Fire_Involvement|Alcohol|Drug|Product_1|Product_2|Product_3|           Narrative|Stratum|PSU|  Weight|Age_bins|Age_Categories|\n",
            "+----------------+--------------+---+---+----+----------+--------+---------+---------+---------------+-----------+-----------+-----------------+-----------+--------+----------------+-------+----+---------+---------+---------+--------------------+-------+---+--------+--------+--------------+\n",
            "|       160101845|    01/01/2016| 92|1.0|   0|      NULL|    NULL|       79|       57|           NULL|       NULL|       NULL|             NULL|          4|       1|               0|   NULL|NULL|     1645|     1807|        0|92YOM TRYINGO TO ...|      M| 63|103.2251|     5.0|      Very old|\n",
            "|       160101847|    01/01/2016| 90|1.0|   0|      NULL|    NULL|       79|       57|           NULL|       NULL|       NULL|             NULL|          4|       1|               0|   NULL|NULL|      670|        0|        0|90YOM FELL GETTIN...|      M| 63|103.2251|     5.0|      Very old|\n",
            "|       160101848|    01/01/2016| 71|2.0|   0|      NULL|    NULL|       79|       57|           NULL|       NULL|       NULL|             NULL|          4|       1|               0|   NULL|NULL|     1807|        0|        0|71YOF SLIPPED AND...|      M| 63|103.2251|     4.0|       Elderly|\n",
            "|       160101852|    01/01/2016| 71|2.0|   0|      NULL|    NULL|       31|       64|           NULL|       NULL|       NULL|             NULL|          1|       0|               0|   NULL|NULL|     1144|        0|        0|71YOF CARRYING A ...|      M| 63|103.2251|     4.0|       Elderly|\n",
            "|       160101857|    01/01/2016| 57|1.0|   0|      NULL|    NULL|       83|       59|           NULL|       NULL|       NULL|             NULL|          1|       1|               0|   NULL|NULL|      464|        0|        0|57YOM DROPPED A K...|      M| 63|103.2251|     4.0|       Elderly|\n",
            "+----------------+--------------+---+---+----+----------+--------+---------+---------+---------------+-----------+-----------+-----------------+-----------+--------+----------------+-------+----+---------+---------+---------+--------------------+-------+---+--------+--------+--------------+\n",
            "only showing top 5 rows\n",
            "\n",
            "time: 735 ms (started: 2025-03-23 14:51:04 +00:00)\n"
          ]
        }
      ],
      "source": [
        "df2.select(\"*\").show(5)"
      ]
    },
    {
      "cell_type": "code",
      "execution_count": null,
      "metadata": {
        "id": "q1vwsONeLTaf",
        "colab": {
          "base_uri": "https://localhost:8080/"
        },
        "outputId": "828ee0f4-e6ae-4053-93f5-87b87540fa57"
      },
      "outputs": [
        {
          "output_type": "stream",
          "name": "stdout",
          "text": [
            "time: 19.3 ms (started: 2025-03-23 14:51:07 +00:00)\n"
          ]
        }
      ],
      "source": [
        "col_list = ['Body_Part_2', 'Diagnosis_2', 'Other_Diagnosis_2', 'Location', 'Fire_Involvement', 'Alcohol', 'Drug', 'Product_1', 'Product_2', 'Product_3', 'Narrative', 'Stratum', 'PSU', 'Weight', 'Age_bins']\n",
        "df2 = df2.drop(*col_list)"
      ]
    },
    {
      "cell_type": "code",
      "execution_count": null,
      "metadata": {
        "colab": {
          "base_uri": "https://localhost:8080/"
        },
        "id": "ZToQj867LhBB",
        "outputId": "b50a9815-1fe1-4713-9028-27f66d7e11e2"
      },
      "outputs": [
        {
          "output_type": "stream",
          "name": "stdout",
          "text": [
            "+----------------+--------------+---+---+----+----------+--------+---------+---------+---------------+-----------+--------------+\n",
            "|CPSC_Case_Number|Treatment_Date|Age|Sex|Race|Other_Race|Hispanic|Body_Part|Diagnosis|Other_Diagnosis|Disposition|Age_Categories|\n",
            "+----------------+--------------+---+---+----+----------+--------+---------+---------+---------------+-----------+--------------+\n",
            "|       160101845|    01/01/2016| 92|1.0|   0|      NULL|    NULL|       79|       57|           NULL|          4|      Very old|\n",
            "|       160101847|    01/01/2016| 90|1.0|   0|      NULL|    NULL|       79|       57|           NULL|          4|      Very old|\n",
            "|       160101848|    01/01/2016| 71|2.0|   0|      NULL|    NULL|       79|       57|           NULL|          4|       Elderly|\n",
            "|       160101852|    01/01/2016| 71|2.0|   0|      NULL|    NULL|       31|       64|           NULL|          1|       Elderly|\n",
            "|       160101857|    01/01/2016| 57|1.0|   0|      NULL|    NULL|       83|       59|           NULL|          1|       Elderly|\n",
            "+----------------+--------------+---+---+----+----------+--------+---------+---------+---------------+-----------+--------------+\n",
            "only showing top 5 rows\n",
            "\n",
            "time: 528 ms (started: 2025-03-23 14:51:09 +00:00)\n"
          ]
        }
      ],
      "source": [
        "df2.select(\"*\").show(5)"
      ]
    },
    {
      "cell_type": "code",
      "execution_count": null,
      "metadata": {
        "id": "nmNlQS3BNhQh",
        "colab": {
          "base_uri": "https://localhost:8080/"
        },
        "outputId": "14c56403-0bc0-4f9a-9cd6-1b78de7fda78"
      },
      "outputs": [
        {
          "output_type": "stream",
          "name": "stdout",
          "text": [
            "time: 21.1 ms (started: 2025-03-23 14:51:10 +00:00)\n"
          ]
        }
      ],
      "source": [
        "df2 = df2.where(df2['Disposition'] == 8)"
      ]
    },
    {
      "cell_type": "code",
      "execution_count": null,
      "metadata": {
        "colab": {
          "base_uri": "https://localhost:8080/"
        },
        "id": "zMkLeJDQN0HV",
        "outputId": "77acbe6f-5027-4ba3-f7c8-8d947d96fa4a"
      },
      "outputs": [
        {
          "output_type": "stream",
          "name": "stdout",
          "text": [
            "+----------------+--------------+---+---+----+----------+--------+---------+---------+--------------------+-----------+--------------+\n",
            "|CPSC_Case_Number|Treatment_Date|Age|Sex|Race|Other_Race|Hispanic|Body_Part|Diagnosis|     Other_Diagnosis|Disposition|Age_Categories|\n",
            "+----------------+--------------+---+---+----+----------+--------+---------+---------+--------------------+-----------+--------------+\n",
            "|       160122220|    01/08/2016| 84|1.0|   0|      NULL|    NULL|       85|       71|      CARDIAC ARREST|          8|      Very old|\n",
            "|       160127991|    01/09/2016| 41|2.0|   1|      NULL|    NULL|       85|       71|CARDIOPULMONARY ARRE|          8|         Adult|\n",
            "|       160135106|    01/17/2016| 23|2.0|   3|  HISPANIC|    NULL|       75|       52|                NULL|          8|         Adult|\n",
            "|       160135933|    01/10/2016| 58|2.0|   1|      NULL|    NULL|       85|       71|        SUDDEN DEATH|          8|       Elderly|\n",
            "|       160146198|    01/23/2016|  3|1.0|   0|      NULL|    NULL|       85|       69|                NULL|          8|         Child|\n",
            "+----------------+--------------+---+---+----+----------+--------+---------+---------+--------------------+-----------+--------------+\n",
            "only showing top 5 rows\n",
            "\n",
            "time: 1.18 s (started: 2025-03-23 14:51:11 +00:00)\n"
          ]
        }
      ],
      "source": [
        "df2.select(\"*\").show(5)"
      ]
    },
    {
      "cell_type": "code",
      "execution_count": null,
      "metadata": {
        "id": "V470McJEPcjP",
        "colab": {
          "base_uri": "https://localhost:8080/"
        },
        "outputId": "557eb0fe-7b53-4fec-d0ba-69724db88649"
      },
      "outputs": [
        {
          "output_type": "stream",
          "name": "stdout",
          "text": [
            "time: 860 µs (started: 2025-03-23 14:51:13 +00:00)\n"
          ]
        }
      ],
      "source": [
        "diagnoses_dict = {41: 'Ingestion',\n",
        " 42: 'Aspiration',\n",
        " 46: 'Burns, Electrical',\n",
        " 47: 'Burns, Not Specified',\n",
        " 48: 'Burns, Scald',\n",
        " 49: 'Burns, Chemical',\n",
        " 50: 'Amputaion',\n",
        " 51: 'Burns, Thermal',\n",
        " 52: 'Concussions',\n",
        " 53: 'Contusions, Abrasions',\n",
        " 54: 'Crushing',\n",
        " 55: 'Dislocation',\n",
        " 56: 'Foreign Body',\n",
        " 57: 'Fracture',\n",
        " 58: 'Hematoma',\n",
        " 59: 'Laceration',\n",
        " 60: 'Dental Injury',\n",
        " 61: 'Nerve Damage',\n",
        " 62: 'Internal Organ Injury',\n",
        " 63: 'Puncture',\n",
        " 64: 'Strain, Sprain',\n",
        " 65: 'Anoxia',\n",
        " 66: 'Hemorrhage',\n",
        " 67: 'Electric Shock',\n",
        " 68: 'Poisoning',\n",
        " 69: 'Submersion',\n",
        " 71: 'Other/Not Stated',\n",
        " 72: 'Avulsion',\n",
        " 73: 'Burns, Radiation',\n",
        " 74: 'Dermatitis, Conjunctivitis'}"
      ]
    },
    {
      "cell_type": "markdown",
      "metadata": {
        "id": "Ubw3ZPE0S9Dv"
      },
      "source": [
        "Get counts of distinct diagnosis values using mapreduce"
      ]
    },
    {
      "cell_type": "code",
      "execution_count": null,
      "metadata": {
        "colab": {
          "base_uri": "https://localhost:8080/"
        },
        "id": "8FhkG8bxTp57",
        "outputId": "374b4d28-e47d-4708-8846-c41a8810a9ab"
      },
      "outputs": [
        {
          "output_type": "stream",
          "name": "stdout",
          "text": [
            "+---------+-----+\n",
            "|Diagnosis|count|\n",
            "+---------+-----+\n",
            "|       71|  328|\n",
            "|       62|  104|\n",
            "|       69|   52|\n",
            "|       65|   37|\n",
            "|       57|   23|\n",
            "|       59|   14|\n",
            "|       51|   14|\n",
            "|       53|    8|\n",
            "|       68|    6|\n",
            "|       58|    2|\n",
            "|       42|    2|\n",
            "|       66|    2|\n",
            "|       67|    2|\n",
            "|       52|    1|\n",
            "|       54|    1|\n",
            "|       48|    1|\n",
            "|       72|    1|\n",
            "|       63|    1|\n",
            "+---------+-----+\n",
            "\n",
            "time: 4.59 s (started: 2025-03-23 14:51:15 +00:00)\n"
          ]
        }
      ],
      "source": [
        "df2.groupby('Diagnosis').count().sort('count', ascending=False).show()"
      ]
    },
    {
      "cell_type": "markdown",
      "metadata": {
        "id": "rkbPcvJ6VBoc"
      },
      "source": [
        "Age Analysis"
      ]
    },
    {
      "cell_type": "code",
      "execution_count": null,
      "metadata": {
        "colab": {
          "base_uri": "https://localhost:8080/"
        },
        "id": "kgmT1dr-XBr9",
        "outputId": "861131cb-3859-4e2a-a552-4ab4e3ab3a69"
      },
      "outputs": [
        {
          "output_type": "stream",
          "name": "stdout",
          "text": [
            "+--------------+-----+\n",
            "|Age_Categories|count|\n",
            "+--------------+-----+\n",
            "|       Elderly|  255|\n",
            "|         Adult|   99|\n",
            "|      Very old|   91|\n",
            "|        Infant|   66|\n",
            "|         Child|   54|\n",
            "|    Adolescent|   27|\n",
            "|  Not Recorded|    7|\n",
            "+--------------+-----+\n",
            "\n",
            "time: 3.29 s (started: 2025-03-23 14:51:25 +00:00)\n"
          ]
        }
      ],
      "source": [
        "df2.groupby('Age_Categories').count().sort('count', ascending=False).show()"
      ]
    },
    {
      "cell_type": "code",
      "execution_count": null,
      "metadata": {
        "id": "AMGI-vwEWVOi",
        "colab": {
          "base_uri": "https://localhost:8080/"
        },
        "outputId": "d9da3a67-e7df-4023-91f0-5971ea381170"
      },
      "outputs": [
        {
          "output_type": "stream",
          "name": "stdout",
          "text": [
            "time: 56.8 ms (started: 2025-03-23 14:51:29 +00:00)\n"
          ]
        }
      ],
      "source": [
        "age_dfs = [df2[df2['Age_Categories'] == x] for x in age_dict.values()]"
      ]
    },
    {
      "cell_type": "code",
      "execution_count": 49,
      "metadata": {
        "id": "nuHoaUgucsDC",
        "colab": {
          "base_uri": "https://localhost:8080/"
        },
        "outputId": "78cd7cf3-7cc4-41bc-bf76-5ed9b00301a6"
      },
      "outputs": [
        {
          "output_type": "stream",
          "name": "stdout",
          "text": [
            "peak memory: 423.98 MiB, increment: 0.19 MiB\n",
            "time: 23.8 s (started: 2025-03-23 15:07:21 +00:00)\n"
          ]
        }
      ],
      "source": [
        "%%memit\n",
        "rdds = []\n",
        "for i in range(len(age_dfs)):\n",
        "  rdd = age_dfs[i].rdd\n",
        "  rdds.append(rdd.map(lambda x : (x['Diagnosis'], 1)).reduceByKey(lambda a,b: a + b).map(lambda x:(diagnoses_dict.get(x[0]), x[1])).sortBy(lambda x: x[1], ascending=False))"
      ]
    },
    {
      "cell_type": "code",
      "execution_count": 50,
      "metadata": {
        "colab": {
          "base_uri": "https://localhost:8080/"
        },
        "id": "ga03D5zGeaKh",
        "outputId": "58448118-5d83-4e7f-c4fa-308145b32260"
      },
      "outputs": [
        {
          "output_type": "stream",
          "name": "stdout",
          "text": [
            "Age group: Not Recorded\n",
            "Other/Not Stated: 4\n",
            "Anoxia: 2\n",
            "Avulsion: 1\n",
            "\n",
            "\n",
            "Age group: Child\n",
            "Submersion: 22\n",
            "Other/Not Stated: 11\n",
            "Anoxia: 10\n",
            "Internal Organ Injury: 5\n",
            "Hemorrhage: 2\n",
            "Burns, Thermal: 2\n",
            "Fracture: 1\n",
            "Electric Shock: 1\n",
            "\n",
            "\n",
            "Age group: Adolescent\n",
            "Other/Not Stated: 9\n",
            "Internal Organ Injury: 8\n",
            "Submersion: 7\n",
            "Anoxia: 2\n",
            "Fracture: 1\n",
            "\n",
            "\n",
            "Age group: Adult\n",
            "Other/Not Stated: 49\n",
            "Internal Organ Injury: 13\n",
            "Submersion: 8\n",
            "Anoxia: 8\n",
            "Fracture: 5\n",
            "Laceration: 5\n",
            "Poisoning: 4\n",
            "Burns, Thermal: 3\n",
            "Concussions: 1\n",
            "Crushing: 1\n",
            "Electric Shock: 1\n",
            "Puncture: 1\n",
            "\n",
            "\n",
            "Age group: Elderly\n",
            "Other/Not Stated: 163\n",
            "Internal Organ Injury: 47\n",
            "Burns, Thermal: 8\n",
            "Anoxia: 7\n",
            "Fracture: 7\n",
            "Submersion: 7\n",
            "Laceration: 6\n",
            "Contusions, Abrasions: 6\n",
            "Hematoma: 2\n",
            "Poisoning: 2\n",
            "\n",
            "\n",
            "Age group: Very old\n",
            "Other/Not Stated: 42\n",
            "Internal Organ Injury: 30\n",
            "Fracture: 9\n",
            "Laceration: 3\n",
            "Contusions, Abrasions: 2\n",
            "Submersion: 2\n",
            "Aspiration: 1\n",
            "Burns, Thermal: 1\n",
            "Anoxia: 1\n",
            "\n",
            "\n",
            "Age group: Infant\n",
            "Other/Not Stated: 50\n",
            "Anoxia: 7\n",
            "Submersion: 6\n",
            "Internal Organ Injury: 1\n",
            "Aspiration: 1\n",
            "Burns, Scald: 1\n",
            "\n",
            "\n",
            "peak memory: 424.21 MiB, increment: 0.01 MiB\n",
            "time: 4.08 s (started: 2025-03-23 15:09:00 +00:00)\n"
          ]
        }
      ],
      "source": [
        "%%memit\n",
        "for i in range(len(rdds)):\n",
        "  output = rdds[i].collect()\n",
        "  print(\"Age group: %s\" %list(age_dict.values())[i])\n",
        "  for diagnosis, count in output:\n",
        "    print(\"{}: {}\".format(diagnosis, count))\n",
        "  print(\"\\n\")"
      ]
    },
    {
      "cell_type": "markdown",
      "metadata": {
        "id": "85jkjFIRowxy"
      },
      "source": [
        "Race output"
      ]
    },
    {
      "cell_type": "code",
      "execution_count": null,
      "metadata": {
        "colab": {
          "base_uri": "https://localhost:8080/"
        },
        "id": "mF6-VHsTey2U",
        "outputId": "b3946f06-983b-4661-c737-0efb18092845"
      },
      "outputs": [
        {
          "output_type": "execute_result",
          "data": {
            "text/plain": [
              "Row(CPSC_Case_Number='160122220', Treatment_Date='01/08/2016', Age=84, Sex=1.0, Race=0, Other_Race=None, Hispanic=None, Body_Part=85, Diagnosis=71, Other_Diagnosis='CARDIAC ARREST', Disposition=8, Age_Categories='Very old')"
            ]
          },
          "metadata": {},
          "execution_count": 28
        },
        {
          "output_type": "stream",
          "name": "stdout",
          "text": [
            "time: 324 ms (started: 2025-03-23 14:54:38 +00:00)\n"
          ]
        }
      ],
      "source": [
        "passed_away = df2.filter(df['Disposition'] == 8)\n",
        "passed_away.head()"
      ]
    },
    {
      "cell_type": "code",
      "execution_count": null,
      "metadata": {
        "colab": {
          "base_uri": "https://localhost:8080/"
        },
        "id": "kfH3gBkqqtzU",
        "outputId": "1ed5365b-47a5-4062-c567-feff82794e61"
      },
      "outputs": [
        {
          "output_type": "stream",
          "name": "stdout",
          "text": [
            "+---------+-----+\n",
            "|Diagnosis|count|\n",
            "+---------+-----+\n",
            "|       71|  328|\n",
            "|       62|  104|\n",
            "|       69|   52|\n",
            "|       65|   37|\n",
            "|       57|   23|\n",
            "|       59|   14|\n",
            "|       51|   14|\n",
            "|       53|    8|\n",
            "|       68|    6|\n",
            "|       58|    2|\n",
            "|       42|    2|\n",
            "|       66|    2|\n",
            "|       67|    2|\n",
            "|       52|    1|\n",
            "|       54|    1|\n",
            "|       48|    1|\n",
            "|       72|    1|\n",
            "|       63|    1|\n",
            "+---------+-----+\n",
            "\n",
            "time: 2.75 s (started: 2025-03-23 14:54:39 +00:00)\n"
          ]
        }
      ],
      "source": [
        "passed_away.groupBy('Diagnosis').count().orderBy('count', ascending=False).show()"
      ]
    },
    {
      "cell_type": "code",
      "execution_count": null,
      "metadata": {
        "id": "_HQpN5ywrZG5",
        "colab": {
          "base_uri": "https://localhost:8080/"
        },
        "outputId": "9b8f9a39-9a62-4937-9ccf-29a9dc552cf5"
      },
      "outputs": [
        {
          "output_type": "stream",
          "name": "stdout",
          "text": [
            "time: 50.7 ms (started: 2025-03-23 14:54:43 +00:00)\n"
          ]
        }
      ],
      "source": [
        "# white\n",
        "white_df = passed_away.filter(passed_away[\"Race\"] == 1.0)\n",
        "\n",
        "# black\n",
        "black_df = passed_away.filter(passed_away[\"Race\"] == 2.0)\n",
        "\n",
        "# asian\n",
        "asian_df = passed_away.filter(passed_away[\"Race\"] == 4.0)\n",
        "\n",
        "# native\n",
        "native_df = passed_away.filter(passed_away[\"Race\"] == 5.0)\n",
        "\n",
        "# islander\n",
        "islander_df = passed_away.filter(passed_away[\"Race\"] == 6.0)\n"
      ]
    },
    {
      "cell_type": "code",
      "execution_count": 51,
      "metadata": {
        "id": "goDezBDNQcF4",
        "colab": {
          "base_uri": "https://localhost:8080/"
        },
        "outputId": "014d21f9-8093-4fda-b35c-04ad219a2996"
      },
      "outputs": [
        {
          "output_type": "stream",
          "name": "stdout",
          "text": [
            "peak memory: 424.22 MiB, increment: 0.00 MiB\n",
            "time: 17.8 s (started: 2025-03-23 15:10:33 +00:00)\n"
          ]
        }
      ],
      "source": [
        "%%memit\n",
        "rdds = []\n",
        "rdd = white_df.rdd\n",
        "rdds.append(rdd.map(lambda x : (x['Diagnosis'], 1)).reduceByKey(lambda a,b: a + b).map(lambda x:(diagnoses_dict.get(x[0]), x[1])).sortBy(lambda x: x[1], ascending=False))\n",
        "rdd = black_df.rdd\n",
        "rdds.append(rdd.map(lambda x : (x['Diagnosis'], 1)).reduceByKey(lambda a,b: a + b).map(lambda x:(diagnoses_dict.get(x[0]), x[1])).sortBy(lambda x: x[1], ascending=False))\n",
        "rdd = asian_df.rdd\n",
        "rdds.append(rdd.map(lambda x : (x['Diagnosis'], 1)).reduceByKey(lambda a,b: a + b).map(lambda x:(diagnoses_dict.get(x[0]), x[1])).sortBy(lambda x: x[1], ascending=False))\n",
        "rdd = native_df.rdd\n",
        "rdds.append(rdd.map(lambda x : (x['Diagnosis'], 1)).reduceByKey(lambda a,b: a + b).map(lambda x:(diagnoses_dict.get(x[0]), x[1])).sortBy(lambda x: x[1], ascending=False))\n",
        "rdd = islander_df.rdd\n",
        "rdds.append(rdd.map(lambda x : (x['Diagnosis'], 1)).reduceByKey(lambda a,b: a + b).map(lambda x:(diagnoses_dict.get(x[0]), x[1])).sortBy(lambda x: x[1], ascending=False))"
      ]
    },
    {
      "cell_type": "code",
      "execution_count": 52,
      "metadata": {
        "colab": {
          "base_uri": "https://localhost:8080/"
        },
        "id": "CULMBs8YQcF5",
        "outputId": "3129b21f-40a9-444b-c392-46c478fc4e50"
      },
      "outputs": [
        {
          "output_type": "stream",
          "name": "stdout",
          "text": [
            "Race: White\n",
            "Other/Not Stated: 91\n",
            "Internal Organ Injury: 30\n",
            "Submersion: 16\n",
            "Anoxia: 11\n",
            "Laceration: 9\n",
            "Fracture: 7\n",
            "Burns, Thermal: 6\n",
            "Contusions, Abrasions: 4\n",
            "Poisoning: 2\n",
            "Hemorrhage: 1\n",
            "Crushing: 1\n",
            "Aspiration: 1\n",
            "Electric Shock: 1\n",
            "Puncture: 1\n",
            "\n",
            "\n",
            "Race: Black\n",
            "Other/Not Stated: 40\n",
            "Anoxia: 13\n",
            "Internal Organ Injury: 9\n",
            "Submersion: 7\n",
            "Burns, Thermal: 4\n",
            "Laceration: 2\n",
            "Avulsion: 1\n",
            "Contusions, Abrasions: 1\n",
            "\n",
            "\n",
            "Race: Asian\n",
            "Other/Not Stated: 5\n",
            "Internal Organ Injury: 3\n",
            "Submersion: 2\n",
            "\n",
            "\n",
            "Race: Native\n",
            "Fracture: 1\n",
            "\n",
            "\n",
            "Race: Islander\n",
            "\n",
            "\n",
            "peak memory: 424.24 MiB, increment: 0.02 MiB\n",
            "time: 2.74 s (started: 2025-03-23 15:11:22 +00:00)\n"
          ]
        }
      ],
      "source": [
        "%%memit\n",
        "race_dict = {1.0 : 'White', 2.0 : 'Black', 3.0:'Asian', 4.0: 'Native', 5.0: 'Islander'}\n",
        "for i in range(len(rdds)):\n",
        "  output = rdds[i].collect()\n",
        "  print(\"Race: %s\" %list(race_dict.values())[i])\n",
        "  for diagnosis, count in output:\n",
        "    print(\"{}: {}\".format(diagnosis, count))\n",
        "  print(\"\\n\")"
      ]
    },
    {
      "cell_type": "markdown",
      "metadata": {
        "id": "8gpB6lR-vIDP"
      },
      "source": [
        "Gender Analysis\n"
      ]
    },
    {
      "cell_type": "code",
      "source": [
        "male_df = passed_away.filter(passed_away[\"Sex\"] == 1.0)\n",
        "female_df = passed_away.filter(passed_away[\"Sex\"] == 2.0)"
      ],
      "metadata": {
        "colab": {
          "base_uri": "https://localhost:8080/"
        },
        "id": "zcUSrijNhtbW",
        "outputId": "bcd37e90-4bf1-4450-9b2a-1ff736da7dd0"
      },
      "execution_count": 38,
      "outputs": [
        {
          "output_type": "stream",
          "name": "stdout",
          "text": [
            "time: 19.3 ms (started: 2025-03-23 15:03:14 +00:00)\n"
          ]
        }
      ]
    },
    {
      "cell_type": "code",
      "execution_count": 53,
      "metadata": {
        "id": "pS5cR1DfJm00",
        "colab": {
          "base_uri": "https://localhost:8080/"
        },
        "outputId": "a61f7ef6-69a8-4ebe-97a3-568ef7508028"
      },
      "outputs": [
        {
          "output_type": "stream",
          "name": "stdout",
          "text": [
            "peak memory: 424.27 MiB, increment: 0.01 MiB\n",
            "time: 6.25 s (started: 2025-03-23 15:11:56 +00:00)\n"
          ]
        }
      ],
      "source": [
        "%%memit\n",
        "rdds = []\n",
        "rdd = male_df.rdd\n",
        "rdds.append(rdd.map(lambda x : (x['Diagnosis'], 1)).reduceByKey(lambda a,b: a + b).map(lambda x:(diagnoses_dict.get(x[0]), x[1])).sortBy(lambda x: x[1], ascending=False))\n",
        "rdd = female_df.rdd\n",
        "rdds.append(rdd.map(lambda x : (x['Diagnosis'], 1)).reduceByKey(lambda a,b: a + b).map(lambda x:(diagnoses_dict.get(x[0]), x[1])).sortBy(lambda x: x[1], ascending=False))"
      ]
    },
    {
      "cell_type": "code",
      "execution_count": 55,
      "metadata": {
        "colab": {
          "base_uri": "https://localhost:8080/"
        },
        "id": "oRESBatULCHr",
        "outputId": "c4562616-e6f6-458b-dd83-44cc1fed2123"
      },
      "outputs": [
        {
          "output_type": "stream",
          "name": "stdout",
          "text": [
            "Gender: Male\n",
            "Other/Not Stated: 233\n",
            "Internal Organ Injury: 70\n",
            "Submersion: 40\n",
            "Anoxia: 20\n",
            "Fracture: 14\n",
            "Laceration: 13\n",
            "Burns, Thermal: 12\n",
            "Poisoning: 5\n",
            "Contusions, Abrasions: 4\n",
            "Aspiration: 2\n",
            "Electric Shock: 2\n",
            "Hemorrhage: 1\n",
            "Crushing: 1\n",
            "Burns, Scald: 1\n",
            "Avulsion: 1\n",
            "Puncture: 1\n",
            "\n",
            "\n",
            "Gender: Female\n",
            "Other/Not Stated: 95\n",
            "Internal Organ Injury: 34\n",
            "Anoxia: 17\n",
            "Submersion: 12\n",
            "Fracture: 9\n",
            "Contusions, Abrasions: 4\n",
            "Hematoma: 2\n",
            "Burns, Thermal: 2\n",
            "Concussions: 1\n",
            "Hemorrhage: 1\n",
            "Poisoning: 1\n",
            "Laceration: 1\n",
            "\n",
            "\n",
            "peak memory: 424.30 MiB, increment: 0.00 MiB\n",
            "time: 917 ms (started: 2025-03-23 15:12:55 +00:00)\n"
          ]
        }
      ],
      "source": [
        "%%memit\n",
        "sex_dict = {1.0 : 'Male', 2.0 : \"Female\"}\n",
        "for i in range(len(rdds)):\n",
        "  output = rdds[i].collect()\n",
        "  print(\"Gender: %s\" %list(sex_dict.values())[i])\n",
        "  for diagnosis, count in output:\n",
        "    print(\"{}: {}\".format(diagnosis, count))\n",
        "  print(\"\\n\")"
      ]
    }
  ],
  "metadata": {
    "colab": {
      "provenance": []
    },
    "kernelspec": {
      "display_name": "Python 3",
      "name": "python3"
    },
    "language_info": {
      "name": "python"
    }
  },
  "nbformat": 4,
  "nbformat_minor": 0
}